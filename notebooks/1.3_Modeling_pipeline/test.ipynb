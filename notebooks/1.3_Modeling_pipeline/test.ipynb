{
 "cells": [
  {
   "cell_type": "code",
   "execution_count": 1,
   "metadata": {},
   "outputs": [
    {
     "name": "stderr",
     "output_type": "stream",
     "text": [
      "2024/10/18 19:38:03 INFO mlflow.tracking.fluent: Experiment with name '/user/test' does not exist. Creating a new experiment.\n",
      "2024/10/18 19:38:05 WARNING mlflow.utils.requirements_utils: Found lz4 version (3.1.3+dfsg) contains a local version label (+dfsg). MLflow logged a pip requirement for this package as 'lz4==3.1.3' without the local version label to make it installable from PyPI. To specify pip requirements containing local version labels, please use `conda_env` or `pip_requirements`.\n",
      "2024/10/18 19:38:05 WARNING mlflow.models.model: Model logged without a signature and input example. Please set `input_example` parameter when logging the model to auto infer the model signature.\n",
      "2024/10/18 19:38:05 INFO mlflow.tracking._tracking_service.client: 🏃 View run redolent-mule-401 at: http://localhost:5000/#/experiments/2/runs/5f440c421b0a4039b2784f64ade9d354.\n",
      "2024/10/18 19:38:05 INFO mlflow.tracking._tracking_service.client: 🧪 View experiment at: http://localhost:5000/#/experiments/2.\n"
     ]
    },
    {
     "name": "stdout",
     "output_type": "stream",
     "text": [
      "Run ID: 5f440c421b0a4039b2784f64ade9d354\n"
     ]
    }
   ],
   "source": [
    "import mlflow\n",
    "\n",
    "from sklearn.model_selection import train_test_split\n",
    "from sklearn.datasets import load_diabetes\n",
    "from sklearn.ensemble import RandomForestRegressor\n",
    "\n",
    "mlflow.set_tracking_uri(\"http://localhost:5000\")#endpoint donde esta corriendo MLflow\n",
    "mlflow.set_experiment(f\"/user/test\")#nombre del experimento\n",
    "\n",
    "\n",
    "with mlflow.start_run() as run:\n",
    "    # Load the diabetes dataset.\n",
    "    db = load_diabetes()\n",
    "    X_train, X_test, y_train, y_test = train_test_split(db.data, db.target)\n",
    "\n",
    "    # Create and train models.\n",
    "    rf = RandomForestRegressor(n_estimators=100, max_depth=6, max_features=3)\n",
    "    rf.fit(X_train, y_train)\n",
    "\n",
    "    # Use the model to make predictions on the test dataset.\n",
    "    predictions = rf.predict(X_test)\n",
    "\n",
    "    mlflow.sklearn.log_model(rf, \"model\")#guarda el modelo con nombre modelo en el experimento\n",
    "\n",
    "    print(\"Run ID: {}\".format(run.info.run_id))"
   ]
  },
  {
   "cell_type": "code",
   "execution_count": 2,
   "metadata": {},
   "outputs": [
    {
     "name": "stderr",
     "output_type": "stream",
     "text": [
      "/home/user/.local/lib/python3.10/site-packages/tqdm/auto.py:21: TqdmWarning: IProgress not found. Please update jupyter and ipywidgets. See https://ipywidgets.readthedocs.io/en/stable/user_install.html\n",
      "  from .autonotebook import tqdm as notebook_tqdm\n",
      "Downloading artifacts: 100%|██████████| 5/5 [00:00<00:00, 85.93it/s]\n"
     ]
    }
   ],
   "source": [
    "import mlflow\n",
    "logged_model = 'runs:/5f440c421b0a4039b2784f64ade9d354/model'\n",
    "\n",
    "# Load model as a PyFuncModel.\n",
    "loaded_model = mlflow.pyfunc.load_model(logged_model)"
   ]
  },
  {
   "cell_type": "code",
   "execution_count": 3,
   "metadata": {},
   "outputs": [
    {
     "data": {
      "text/plain": [
       "mlflow.pyfunc.loaded_model:\n",
       "  artifact_path: model\n",
       "  flavor: mlflow.sklearn\n",
       "  run_id: 5f440c421b0a4039b2784f64ade9d354"
      ]
     },
     "execution_count": 3,
     "metadata": {},
     "output_type": "execute_result"
    }
   ],
   "source": [
    "loaded_model"
   ]
  },
  {
   "cell_type": "code",
   "execution_count": 4,
   "metadata": {},
   "outputs": [
    {
     "data": {
      "text/plain": [
       "array([ 91.03593443, 184.05553236, 164.66331347, 184.50913329,\n",
       "       206.88300398, 257.06339622, 190.04642882, 208.15821692,\n",
       "       115.75656729, 108.71858159, 260.05949429, 224.02410964,\n",
       "       182.40361099, 131.58280684, 124.67521755,  87.35725823,\n",
       "       152.22395322,  91.18492457, 106.5618305 , 104.49168964,\n",
       "       151.39768102, 159.16535245, 213.06018636, 225.14509585,\n",
       "       133.9739562 , 109.97115596, 148.34901433, 124.98365613,\n",
       "       136.91996314, 179.28578381, 169.76107308, 181.83989231,\n",
       "       127.01505234,  88.13994299, 250.70778761, 121.99893555,\n",
       "        86.27581788, 161.832729  , 108.81255316, 164.799692  ,\n",
       "        84.68152791, 276.20320574, 269.55079934, 143.3243241 ,\n",
       "       204.21639248, 163.9939319 , 187.98274677, 172.72971199,\n",
       "       103.55804163, 222.11731098, 111.96035595,  94.73501169,\n",
       "       162.29215922,  85.71300607,  87.33753631, 108.91295853,\n",
       "        96.54172949, 186.24025234, 185.97179453, 142.71115976,\n",
       "       110.2496567 , 103.72162916, 125.86752121, 162.69095733,\n",
       "       168.44314521,  94.1168922 , 202.21655202, 114.90892138,\n",
       "       107.17079882, 202.55514823, 150.0581532 , 235.85906579,\n",
       "       109.05760614, 107.80383206, 147.55944238, 219.84261157,\n",
       "       178.42407118, 244.48163739, 113.58036247,  97.01528565,\n",
       "       185.33771301, 158.28142437, 142.32513821,  85.10278631,\n",
       "       215.54327071, 169.7040177 , 202.68892815, 130.12332523,\n",
       "       167.96344173, 225.60292441, 187.07744274, 219.61704756,\n",
       "       231.07227672, 118.55513546, 181.60632196,  96.76164099,\n",
       "        96.2510701 , 191.61880515, 115.32773949, 237.88715546,\n",
       "       151.88698248, 177.64027602, 111.84151151, 177.57401987,\n",
       "       207.41853663, 224.08505017, 146.60862964,  95.66351464,\n",
       "       129.36521273, 235.48905812, 185.0211901 ])"
      ]
     },
     "execution_count": 4,
     "metadata": {},
     "output_type": "execute_result"
    }
   ],
   "source": [
    "loaded_model.predict(X_test)"
   ]
  },
  {
   "cell_type": "code",
   "execution_count": null,
   "metadata": {},
   "outputs": [],
   "source": []
  }
 ],
 "metadata": {
  "kernelspec": {
   "display_name": "Python 3",
   "language": "python",
   "name": "python3"
  },
  "language_info": {
   "codemirror_mode": {
    "name": "ipython",
    "version": 3
   },
   "file_extension": ".py",
   "mimetype": "text/x-python",
   "name": "python",
   "nbconvert_exporter": "python",
   "pygments_lexer": "ipython3",
   "version": "3.10.12"
  }
 },
 "nbformat": 4,
 "nbformat_minor": 2
}
